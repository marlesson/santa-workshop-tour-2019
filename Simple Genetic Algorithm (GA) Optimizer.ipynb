{
 "cells": [
  {
   "cell_type": "code",
   "execution_count": 1,
   "metadata": {
    "_cell_guid": "b1076dfc-b9ad-4769-8c92-a6c4dae69d19",
    "_uuid": "8f2839f25d086af736a60e9eeb907d3b93b6e0e5"
   },
   "outputs": [],
   "source": [
    "# This Python 3 environment comes with many helpful analytics libraries installed\n",
    "# It is defined by the kaggle/python docker image: https://github.com/kaggle/docker-python\n",
    "# For example, here's several helpful packages to load in \n",
    "\n",
    "import numpy as np # linear algebra\n",
    "import pandas as pd # data processing, CSV file I/O (e.g. pd.read_csv)\n",
    "from multiprocessing import Pool\n",
    "import random\n",
    "import matplotlib.pyplot as plt\n",
    "import seaborn as sns\n",
    "\n",
    "\n",
    "# Input data files are available in the \"../input/\" directory.\n",
    "# For example, running this (by clicking run or pressing Shift+Enter) will list all files under the input directory\n",
    "\n",
    "import os\n",
    "for dirname, _, filenames in os.walk('/kaggle/input'):\n",
    "    for filename in filenames:\n",
    "        print(os.path.join(dirname, filename))\n",
    "\n",
    "# Any results you write to the current directory are saved as output."
   ]
  },
  {
   "cell_type": "code",
   "execution_count": 2,
   "metadata": {},
   "outputs": [],
   "source": [
    "## Dataset"
   ]
  },
  {
   "cell_type": "code",
   "execution_count": 3,
   "metadata": {
    "_cell_guid": "79c7e3d0-c299-4dcb-8224-4455121ee9b0",
    "_uuid": "d629ff2d2480ee46fbb7e2d37f6b5fab8052498a"
   },
   "outputs": [],
   "source": [
    "fpath = 'family_data.csv'\n",
    "data = pd.read_csv(fpath, index_col='family_id')\n",
    "\n",
    "fpath = 'sample_submission.csv'\n",
    "submission = pd.read_csv(fpath, index_col='family_id')"
   ]
  },
  {
   "cell_type": "code",
   "execution_count": 4,
   "metadata": {},
   "outputs": [
    {
     "data": {
      "text/html": [
       "<div>\n",
       "<style scoped>\n",
       "    .dataframe tbody tr th:only-of-type {\n",
       "        vertical-align: middle;\n",
       "    }\n",
       "\n",
       "    .dataframe tbody tr th {\n",
       "        vertical-align: top;\n",
       "    }\n",
       "\n",
       "    .dataframe thead th {\n",
       "        text-align: right;\n",
       "    }\n",
       "</style>\n",
       "<table border=\"1\" class=\"dataframe\">\n",
       "  <thead>\n",
       "    <tr style=\"text-align: right;\">\n",
       "      <th></th>\n",
       "      <th>choice_0</th>\n",
       "      <th>choice_1</th>\n",
       "      <th>choice_2</th>\n",
       "      <th>choice_3</th>\n",
       "      <th>choice_4</th>\n",
       "      <th>choice_5</th>\n",
       "      <th>choice_6</th>\n",
       "      <th>choice_7</th>\n",
       "      <th>choice_8</th>\n",
       "      <th>choice_9</th>\n",
       "      <th>n_people</th>\n",
       "    </tr>\n",
       "    <tr>\n",
       "      <th>family_id</th>\n",
       "      <th></th>\n",
       "      <th></th>\n",
       "      <th></th>\n",
       "      <th></th>\n",
       "      <th></th>\n",
       "      <th></th>\n",
       "      <th></th>\n",
       "      <th></th>\n",
       "      <th></th>\n",
       "      <th></th>\n",
       "      <th></th>\n",
       "    </tr>\n",
       "  </thead>\n",
       "  <tbody>\n",
       "    <tr>\n",
       "      <th>0</th>\n",
       "      <td>52</td>\n",
       "      <td>38</td>\n",
       "      <td>12</td>\n",
       "      <td>82</td>\n",
       "      <td>33</td>\n",
       "      <td>75</td>\n",
       "      <td>64</td>\n",
       "      <td>76</td>\n",
       "      <td>10</td>\n",
       "      <td>28</td>\n",
       "      <td>4</td>\n",
       "    </tr>\n",
       "    <tr>\n",
       "      <th>1</th>\n",
       "      <td>26</td>\n",
       "      <td>4</td>\n",
       "      <td>82</td>\n",
       "      <td>5</td>\n",
       "      <td>11</td>\n",
       "      <td>47</td>\n",
       "      <td>38</td>\n",
       "      <td>6</td>\n",
       "      <td>66</td>\n",
       "      <td>61</td>\n",
       "      <td>4</td>\n",
       "    </tr>\n",
       "    <tr>\n",
       "      <th>2</th>\n",
       "      <td>100</td>\n",
       "      <td>54</td>\n",
       "      <td>25</td>\n",
       "      <td>12</td>\n",
       "      <td>27</td>\n",
       "      <td>82</td>\n",
       "      <td>10</td>\n",
       "      <td>89</td>\n",
       "      <td>80</td>\n",
       "      <td>33</td>\n",
       "      <td>3</td>\n",
       "    </tr>\n",
       "    <tr>\n",
       "      <th>3</th>\n",
       "      <td>2</td>\n",
       "      <td>95</td>\n",
       "      <td>1</td>\n",
       "      <td>96</td>\n",
       "      <td>32</td>\n",
       "      <td>6</td>\n",
       "      <td>40</td>\n",
       "      <td>31</td>\n",
       "      <td>9</td>\n",
       "      <td>59</td>\n",
       "      <td>2</td>\n",
       "    </tr>\n",
       "    <tr>\n",
       "      <th>4</th>\n",
       "      <td>53</td>\n",
       "      <td>1</td>\n",
       "      <td>47</td>\n",
       "      <td>93</td>\n",
       "      <td>26</td>\n",
       "      <td>3</td>\n",
       "      <td>46</td>\n",
       "      <td>16</td>\n",
       "      <td>42</td>\n",
       "      <td>39</td>\n",
       "      <td>4</td>\n",
       "    </tr>\n",
       "  </tbody>\n",
       "</table>\n",
       "</div>"
      ],
      "text/plain": [
       "           choice_0  choice_1  choice_2  choice_3  choice_4  choice_5  \\\n",
       "family_id                                                               \n",
       "0                52        38        12        82        33        75   \n",
       "1                26         4        82         5        11        47   \n",
       "2               100        54        25        12        27        82   \n",
       "3                 2        95         1        96        32         6   \n",
       "4                53         1        47        93        26         3   \n",
       "\n",
       "           choice_6  choice_7  choice_8  choice_9  n_people  \n",
       "family_id                                                    \n",
       "0                64        76        10        28         4  \n",
       "1                38         6        66        61         4  \n",
       "2                10        89        80        33         3  \n",
       "3                40        31         9        59         2  \n",
       "4                46        16        42        39         4  "
      ]
     },
     "execution_count": 4,
     "metadata": {},
     "output_type": "execute_result"
    }
   ],
   "source": [
    "data.head()"
   ]
  },
  {
   "cell_type": "code",
   "execution_count": 5,
   "metadata": {},
   "outputs": [
    {
     "data": {
      "text/plain": [
       "21003"
      ]
     },
     "execution_count": 5,
     "metadata": {},
     "output_type": "execute_result"
    }
   ],
   "source": [
    "data.n_people.sum()"
   ]
  },
  {
   "cell_type": "code",
   "execution_count": 6,
   "metadata": {},
   "outputs": [
    {
     "data": {
      "text/html": [
       "<div>\n",
       "<style scoped>\n",
       "    .dataframe tbody tr th:only-of-type {\n",
       "        vertical-align: middle;\n",
       "    }\n",
       "\n",
       "    .dataframe tbody tr th {\n",
       "        vertical-align: top;\n",
       "    }\n",
       "\n",
       "    .dataframe thead th {\n",
       "        text-align: right;\n",
       "    }\n",
       "</style>\n",
       "<table border=\"1\" class=\"dataframe\">\n",
       "  <thead>\n",
       "    <tr style=\"text-align: right;\">\n",
       "      <th></th>\n",
       "      <th>assigned_day</th>\n",
       "    </tr>\n",
       "    <tr>\n",
       "      <th>family_id</th>\n",
       "      <th></th>\n",
       "    </tr>\n",
       "  </thead>\n",
       "  <tbody>\n",
       "    <tr>\n",
       "      <th>0</th>\n",
       "      <td>100</td>\n",
       "    </tr>\n",
       "    <tr>\n",
       "      <th>1</th>\n",
       "      <td>99</td>\n",
       "    </tr>\n",
       "    <tr>\n",
       "      <th>2</th>\n",
       "      <td>98</td>\n",
       "    </tr>\n",
       "    <tr>\n",
       "      <th>3</th>\n",
       "      <td>97</td>\n",
       "    </tr>\n",
       "    <tr>\n",
       "      <th>4</th>\n",
       "      <td>96</td>\n",
       "    </tr>\n",
       "  </tbody>\n",
       "</table>\n",
       "</div>"
      ],
      "text/plain": [
       "           assigned_day\n",
       "family_id              \n",
       "0                   100\n",
       "1                    99\n",
       "2                    98\n",
       "3                    97\n",
       "4                    96"
      ]
     },
     "execution_count": 6,
     "metadata": {},
     "output_type": "execute_result"
    }
   ],
   "source": [
    "submission.head()"
   ]
  },
  {
   "cell_type": "code",
   "execution_count": 7,
   "metadata": {},
   "outputs": [
    {
     "data": {
      "text/plain": [
       "(5000, 1)"
      ]
     },
     "execution_count": 7,
     "metadata": {},
     "output_type": "execute_result"
    }
   ],
   "source": [
    "submission.shape"
   ]
  },
  {
   "cell_type": "code",
   "execution_count": 8,
   "metadata": {},
   "outputs": [],
   "source": [
    "## Loss Function"
   ]
  },
  {
   "cell_type": "code",
   "execution_count": 9,
   "metadata": {},
   "outputs": [],
   "source": [
    "family_size_dict = data[['n_people']].to_dict()['n_people']\n",
    "\n",
    "cols = [f'choice_{i}' for i in range(10)]\n",
    "choice_dict = data[cols].T.to_dict()\n",
    "\n",
    "N_DAYS = 100\n",
    "MAX_OCCUPANCY = 300\n",
    "MIN_OCCUPANCY = 125\n",
    "\n",
    "# from 100 to 1\n",
    "days = list(range(N_DAYS,0,-1))"
   ]
  },
  {
   "cell_type": "code",
   "execution_count": null,
   "metadata": {},
   "outputs": [],
   "source": []
  },
  {
   "cell_type": "code",
   "execution_count": 10,
   "metadata": {},
   "outputs": [],
   "source": [
    "family_size_ls = list(family_size_dict.values())\n",
    "choice_dict_num = [{vv:i for i, vv in enumerate(di.values())} for di in choice_dict.values()]\n",
    "\n",
    "# Computer penalities in a list\n",
    "penalties_dict = {\n",
    "    n: [\n",
    "        0,\n",
    "        50,\n",
    "        50 + 9 * n,\n",
    "        100 + 9 * n,\n",
    "        200 + 9 * n,\n",
    "        200 + 18 * n,\n",
    "        300 + 18 * n,\n",
    "        300 + 36 * n,\n",
    "        400 + 36 * n,\n",
    "        500 + 36 * n + 199 * n,\n",
    "        500 + 36 * n + 398 * n\n",
    "    ]\n",
    "    for n in range(max(family_size_dict.values())+1)\n",
    "} "
   ]
  },
  {
   "cell_type": "code",
   "execution_count": 11,
   "metadata": {},
   "outputs": [
    {
     "data": {
      "text/plain": [
       "{52: 0, 38: 1, 12: 2, 82: 3, 33: 4, 75: 5, 64: 6, 76: 7, 10: 8, 28: 9}"
      ]
     },
     "execution_count": 11,
     "metadata": {},
     "output_type": "execute_result"
    }
   ],
   "source": [
    "choice_dict_num[0]"
   ]
  },
  {
   "cell_type": "code",
   "execution_count": 133,
   "metadata": {
    "scrolled": true
   },
   "outputs": [],
   "source": [
    "def cost_function(prediction):\n",
    "    penalty = 0\n",
    "\n",
    "    # We'll use this to count the number of people scheduled each day\n",
    "    daily_occupancy = {k:0 for k in days}\n",
    "    \n",
    "    # Looping over each family; d is the day, n is size of that family, \n",
    "    # and choice is their top choices\n",
    "    for n, c, c_dict, choice in zip(family_size_ls, prediction, list(choice_dict.values()), choice_dict_num):\n",
    "        \n",
    "        # Day\n",
    "        if c == 10:\n",
    "            d = randint(0, 100) + 1\n",
    "        else:\n",
    "            d = c_dict['choice_{}'.format(c)]\n",
    "        \n",
    "        # add the family member count to the daily occupancy\n",
    "        daily_occupancy[d] += n\n",
    "\n",
    "        # Calculate the penalty for not getting top preference\n",
    "        if d not in choice:\n",
    "            penalty += penalties_dict[n][-1]\n",
    "        else:\n",
    "            penalty += penalties_dict[n][choice[d]]\n",
    "\n",
    "    # for each date, check total occupancy\n",
    "    #  (using soft constraints instead of hard constraints)\n",
    "    k = 0\n",
    "    for v in daily_occupancy.values():\n",
    "        if (v > MAX_OCCUPANCY):\n",
    "            k = k + (v - MAX_OCCUPANCY)\n",
    "        if (v < MIN_OCCUPANCY):\n",
    "            k = k + (MIN_OCCUPANCY - v)\n",
    "    #    if k > 0:\n",
    "    #        penalty += 100000000 \n",
    "    penalty += penalty*(k/21003)\n",
    "\n",
    "    # Calculate the accounting cost\n",
    "    # The first day (day 100) is treated special\n",
    "    accounting_cost = (daily_occupancy[days[0]]-125.0) / 400.0 * daily_occupancy[days[0]]**(0.5)\n",
    "    # using the max function because the soft constraints might allow occupancy to dip below 125\n",
    "    accounting_cost = max(0, accounting_cost)\n",
    "    \n",
    "    # Loop over the rest of the days, keeping track of previous count\n",
    "    yesterday_count = daily_occupancy[days[0]]\n",
    "    for day in days[1:]:\n",
    "        today_count = daily_occupancy[day]\n",
    "        diff = abs(today_count - yesterday_count)\n",
    "        accounting_cost += max(0, (daily_occupancy[day]-125.0) / 400.0 * daily_occupancy[day]**(0.5 + diff / 50.0))\n",
    "        yesterday_count = today_count\n",
    "\n",
    "    penalty += accounting_cost\n",
    "\n",
    "    return penalty"
   ]
  },
  {
   "cell_type": "code",
   "execution_count": 134,
   "metadata": {},
   "outputs": [],
   "source": [
    "def is_constraint(prediction):\n",
    "    # We'll use this to count the number of people scheduled each day\n",
    "    daily_occupancy = {k:0 for k in days}\n",
    "    \n",
    "    # Looping over each family; d is the day, n is size of that family, \n",
    "    # and choice is their top choices\n",
    "    for n, d, choice in zip(family_size_ls, prediction, choice_dict_num):\n",
    "        # add the family member count to the daily occupancy\n",
    "        daily_occupancy[d] += n\n",
    "\n",
    "    # for each date, check total occupancy\n",
    "    #  (using soft constraints instead of hard constraints)\n",
    "    for v in daily_occupancy.values():\n",
    "        if (v > MAX_OCCUPANCY) or (v < MIN_OCCUPANCY):\n",
    "            return True\n",
    "    return False"
   ]
  },
  {
   "cell_type": "code",
   "execution_count": 135,
   "metadata": {},
   "outputs": [
    {
     "name": "stdout",
     "output_type": "stream",
     "text": [
      "[ 4  8  3 ...  2 10  3]\n",
      "7.976944822968984e+61\n"
     ]
    }
   ],
   "source": [
    "from numpy.random import randint\n",
    "\n",
    "solution = randint(0, 11, 5000)\n",
    "print(solution)\n",
    "print(cost_function(solution))"
   ]
  },
  {
   "cell_type": "code",
   "execution_count": null,
   "metadata": {},
   "outputs": [],
   "source": []
  },
  {
   "cell_type": "code",
   "execution_count": 136,
   "metadata": {},
   "outputs": [],
   "source": [
    "# # Start with the sample submission values\n",
    "# best  = submission['assigned_day'].tolist()\n",
    "# score = cost_function(best)\n",
    "# score"
   ]
  },
  {
   "cell_type": "code",
   "execution_count": 137,
   "metadata": {
    "scrolled": true
   },
   "outputs": [],
   "source": [
    "# # Start with the sample submission values\n",
    "# best  = submission['assigned_day'].tolist()\n",
    "# score = cost_function(best)\n",
    "# score"
   ]
  },
  {
   "cell_type": "markdown",
   "metadata": {},
   "source": [
    "## Genetic Algorithm (GA)"
   ]
  },
  {
   "cell_type": "markdown",
   "metadata": {},
   "source": [
    "## Genetic Algorithm\n",
    "\n",
    "Basic Description\n",
    "Genetic algorithms are inspired by Darwin's theory about evolution. Solution to a problem solved by genetic algorithms is evolved.\n",
    "\n",
    "Algorithm is started with a set of solutions (represented by chromosomes) called population. Solutions from one population are taken and used to form a new population. This is motivated by a hope, that the new population will be better than the old one. Solutions which are selected to form new solutions (offspring) are selected according to their fitness - the more suitable they are the more chances they have to reproduce.\n",
    "\n",
    "Outline of the Basic Genetic Algorithm\n",
    "* **[Start]** Generate random population of n chromosomes (suitable solutions for the problem)\n",
    "* **[Fitness]** Evaluate the fitness f(x) of each chromosome x in the population\n",
    "    * **[New population]** Create a new population by repeating following steps until the new population is complete\n",
    "    * **[Selection]** Select two parent chromosomes from a population according to their fitness (the better fitness, the bigger chance to be selected)\n",
    "    * **[Crossover]** With a crossover probability cross over the parents to form a new offspring (children). If no crossover was performed, offspring is an exact copy of parents.\n",
    "    * **[Mutation]** With a mutation probability mutate new offspring at each locus (position in chromosome).\n",
    "    * [Accepting] Place new offspring in a new population\n",
    "* **[Replace]** Use new generated population for a further run of algorithm\n",
    "* **[Test]** If the end condition is satisfied, stop, and return the best solution in current population\n",
    "* **[Loop]** Go to step 2\n",
    "\n",
    "http://www.obitko.com/tutorials/genetic-algorithms/ga-basic-description.php\n"
   ]
  },
  {
   "cell_type": "code",
   "execution_count": 138,
   "metadata": {},
   "outputs": [],
   "source": [
    "from tqdm import tqdm\n",
    "from itertools import starmap\n",
    "\n",
    "\n",
    "\n",
    "\"\"\"Genetic Algorithmn Implementation\n",
    "see:\n",
    "http://www.obitko.com/tutorials/genetic-algorithms/ga-basic-description.php\n",
    "\"\"\"\n",
    "class GeneticAlgorithm(object):\n",
    "    def __init__(self, genetics):\n",
    "        self.genetics       = genetics\n",
    "        self.best_solution  = None\n",
    "        self.avg_fitness    = []\n",
    "        self.best_fitness   = []\n",
    "        pass\n",
    "\n",
    "    def fitness(self, ch):\n",
    "        return (self.genetics.fitness(ch),  ch)\n",
    "    \n",
    "    def run(self, processes=4):\n",
    "        population = self.genetics.initial()\n",
    "        pool       = Pool(processes=processes)\n",
    "        \n",
    "        while True:\n",
    "            #fits_pops = [self.fitness(ch) for ch in population]\n",
    "            fits_pops = pool.map(self.fitness, population)\n",
    "            #fits_pops = list(tqdm(starmap(self.fitness, population), total=len(population)))\n",
    "            \n",
    "            fits_pops = list(sorted(fits_pops))\n",
    "            \n",
    "            # Log\n",
    "            self.avg_fitness.append(np.median([f for f, ch in fits_pops]))\n",
    "            self.best_fitness.append(np.min([f for f, ch in fits_pops]))\n",
    "\n",
    "            self.best_solution = fits_pops[0][1]\n",
    "            \n",
    "            if self.genetics.check_stop(fits_pops): \n",
    "                break\n",
    "            \n",
    "            population = self.next(fits_pops)\n",
    "            population.append(self.best_solution.copy())\n",
    "            pass\n",
    "        return population\n",
    "\n",
    "    def next(self, fits):\n",
    "        parents_generator = self.genetics.parents(fits)\n",
    "        size  = len(fits)\n",
    "        nexts = [self.best_solution.copy()]\n",
    "        while len(nexts) < size:\n",
    "            parents  = next(parents_generator)\n",
    "            cross    = random.random() < self.genetics.probability_crossover()\n",
    "            children = self.genetics.crossover(parents) if cross else parents\n",
    "\n",
    "            for ch in children:\n",
    "                mutate = random.random() < self.genetics.probability_mutation()\n",
    "                nexts.append(self.genetics.mutation(ch) if mutate else ch)\n",
    "                pass\n",
    "            pass\n",
    "        return nexts[0:size]\n",
    "    pass"
   ]
  },
  {
   "cell_type": "markdown",
   "metadata": {},
   "source": [
    "#### Genetic Algorithms: ...\n"
   ]
  },
  {
   "cell_type": "code",
   "execution_count": 139,
   "metadata": {},
   "outputs": [],
   "source": [
    "class SantasWorkshop():\n",
    "    def __init__(self, generation=10, size=5,\n",
    "                 prob_crossover=0.9, prob_mutation=0.2,\n",
    "                mutation_size = 0.1):\n",
    "        self.counter   = 0\n",
    "        \n",
    "        self.generation = generation\n",
    "        self.size  = size        \n",
    "        self.prob_crossover = prob_crossover\n",
    "        self.prob_mutation  = prob_mutation\n",
    "        self.mutation_size  = mutation_size\n",
    "\n",
    "    # GeneticFunctions interface impls\n",
    "    def probability_crossover(self):\n",
    "        return self.prob_crossover\n",
    "\n",
    "    def probability_mutation(self):\n",
    "        return self.prob_mutation\n",
    "\n",
    "    # Initial population based in s0\n",
    "    def initial(self):\n",
    "        population = [self.random_chromo() for j in range(self.size)]\n",
    "        return population\n",
    "\n",
    "    def fitness(self, chromo):\n",
    "        score = cost_function(chromo)\n",
    "        return score\n",
    "\n",
    "    def check_stop(self, fits_populations):\n",
    "        self.counter += 1\n",
    "        \n",
    "        if self.counter % 2 == 0:\n",
    "\n",
    "            fits  = [f for f, ch in fits_populations]\n",
    "            best  = min(fits)\n",
    "            worst = max(fits)\n",
    "            ave   = sum(fits) / len(fits)\n",
    "            print(\n",
    "                \"[G %3d] score=(%2f, %2f, %2f, %2f): %r\" %\n",
    "                (self.counter, best, ave, worst, len(fits), []))\n",
    "            pass\n",
    "\n",
    "        return self.counter >= self.generation\n",
    "\n",
    "    def parents(self, fits_populations):\n",
    "        while True:\n",
    "            father = self.tournament(fits_populations)\n",
    "            mother = self.tournament(fits_populations)\n",
    "            yield (father, mother)\n",
    "            pass\n",
    "        pass\n",
    "\n",
    "    def crossover(self, parents):\n",
    "        ind1, ind2 = parents\n",
    "        \n",
    "        size = min(len(ind1), len(ind2))\n",
    "        a, b = random.sample(range(size), 2)\n",
    "        if a > b:\n",
    "            a, b = b, a\n",
    "\n",
    "        holes1, holes2 = [True]*size, [True]*size\n",
    "        for i in range(size):\n",
    "            if i < a or i > b:\n",
    "                holes1[ind2[i]-1] = False\n",
    "                holes2[ind1[i]-1] = False\n",
    "\n",
    "        # We must keep the original values somewhere before scrambling everything\n",
    "        temp1, temp2 = ind1, ind2\n",
    "        k1 , k2 = b + 1, b + 1\n",
    "        for i in range(size):\n",
    "            if not holes1[temp1[(i + b + 1) % size]-1]:\n",
    "                ind1[k1 % size] = temp1[(i + b + 1) % size]\n",
    "                k1 += 1\n",
    "\n",
    "            if not holes2[temp2[(i + b + 1) % size]-1]:\n",
    "                ind2[k2 % size] = temp2[(i + b + 1) % size]\n",
    "                k2 += 1\n",
    "\n",
    "        # Swap the content between a and b (included)\n",
    "        for i in range(a, b + 1):\n",
    "            ind1[i], ind2[i] = ind2[i], ind1[i]\n",
    "\n",
    "        return ind1, ind2\n",
    "\n",
    "    def mutation(self, chromosome):\n",
    "        mutated = chromosome\n",
    "        \n",
    "        for k in range(int(len(chromosome)*self.mutation_size)):\n",
    "            i = random.randint(0, len(chromosome)-1)\n",
    "            mutated[i] = randint(0,11)\n",
    "\n",
    "        return mutated\n",
    "\n",
    "    def tournament(self, fits_populations):\n",
    "        alicef, alice = self.select_random(fits_populations)\n",
    "        bobf, bob = self.select_random(fits_populations)\n",
    "        return alice if alicef < bobf else bob\n",
    "\n",
    "    def select_random(self, fits_populations):\n",
    "        return fits_populations[random.randint(0, len(fits_populations)-1)]\n",
    "\n",
    "    def random_chromo(self):\n",
    "        #chromo = [random.choice(data.loc[i].values[:-1]) for i in range(len(df))]\n",
    "        chromo = list(randint(0, 11, 5000))\n",
    "\n",
    "        #chromo = list(df.assigned_day.sample(frac=1).values)\n",
    "        return chromo\n",
    "    pass"
   ]
  },
  {
   "cell_type": "code",
   "execution_count": 140,
   "metadata": {},
   "outputs": [
    {
     "data": {
      "text/plain": [
       "array([0, 1, 4, 7, 0, 0, 9, 9, 8, 7, 9, 2, 8, 5, 2, 8, 3, 6, 4, 7, 8, 5,\n",
       "       6, 6, 6, 4, 7, 6, 6, 9, 4, 2, 8, 9, 2, 5, 5, 4, 2, 6, 0, 2, 1, 5,\n",
       "       3, 9, 5, 8, 4, 6, 7, 3, 7, 3, 2, 5, 5, 0, 4, 7, 0, 0, 9, 7, 9, 6,\n",
       "       1, 8, 9, 9, 4, 6, 1, 7, 1, 2, 6, 6, 6, 5, 4, 3, 1, 7, 3, 4, 7, 3,\n",
       "       1, 2, 6, 8, 8, 0, 3, 7, 4, 0, 7, 7])"
      ]
     },
     "execution_count": 140,
     "metadata": {},
     "output_type": "execute_result"
    }
   ],
   "source": [
    "randint(0, 10, 100)"
   ]
  },
  {
   "cell_type": "markdown",
   "metadata": {},
   "source": [
    "## Compute GA"
   ]
  },
  {
   "cell_type": "code",
   "execution_count": 141,
   "metadata": {
    "scrolled": true
   },
   "outputs": [
    {
     "name": "stdout",
     "output_type": "stream",
     "text": [
      "[G   2] score=(929743730841768688583223021254415693138781798400.000000, 65653096995519368214559664113734479770060750198762481994005054440341504.000000, 32941627160396690052347549007042446018692563486246706012611320323061579776.000000, 1001.000000): []\n",
      "[G   4] score=(226050035833075968528502429154754092898885566464.000000, 2524081890033731329547790095842565515381191501608951594673200387063808.000000, 2391314990639844749294227474055584906253538873233789276434643205100666880.000000, 1003.000000): []\n",
      "[G   6] score=(19307532203602428348425680031628455028195328.000000, 36047136203728161919341324036882203040359696786970229113635209216.000000, 18441258553581849803759129405940118827692619627778478025414170116096.000000, 1005.000000): []\n",
      "[G   8] score=(709998930507138025498656849511878450216960.000000, 8261974486871463271030765636935341280752957140533977389465600.000000, 3577267969498242824191308858036882629291674689317771684387749888.000000, 1007.000000): []\n",
      "[G  10] score=(3650446951945630599383640934869874245632.000000, 2635098287318267618337405036835386689013110228321384401993728.000000, 1082495184719141207030172663003962886408738239726707388050309120.000000, 1009.000000): []\n",
      "[G  12] score=(92509942082559057010582086878232576.000000, 63828159299530421010834797988814880879094617736199798784.000000, 51089597792120897247691444119979100481000378824150742990848.000000, 1011.000000): []\n",
      "[G  14] score=(20834100032409773714888147962167296.000000, 2629852358877406818240337574791148149782686664891564032.000000, 1495164795824565246816229671331850728326479230764939476992.000000, 1013.000000): []\n",
      "[G  16] score=(42745204985295617082873268404224.000000, 7679003407511350851540932598930576140482835042533376.000000, 2929377858522962684436857522181485904645289690521403392.000000, 1015.000000): []\n",
      "[G  18] score=(3323255798627857812472987648.000000, 2076844746066609224489272589130118136818827264.000000, 1050082451835729318451408057184275338217085992960.000000, 1017.000000): []\n",
      "[G  20] score=(1634825170489203555760603136.000000, 2405599337371170203130220725823546954088448000.000000, 1942290175933046221353273360619284256875735941120.000000, 1019.000000): []\n",
      "[G  22] score=(12734025127121019528544256.000000, 498187928616344581572832640798960423796736.000000, 121432288018844616738458011827947305858760704.000000, 1021.000000): []\n",
      "[G  24] score=(1929332093249098885365760.000000, 4552770630768347655425153947690069917696.000000, 1588892083231755535378473620757101806616576.000000, 1023.000000): []\n",
      "[G  26] score=(22384229573006861533184.000000, 3706387465237866738016543898112192440958976.000000, 2886016745362316730170565958688474228565475328.000000, 1025.000000): []\n",
      "[G  28] score=(49291575173898282467328.000000, 226746392528681285755744517989465063424.000000, 102765866883484294698727757217862715965440.000000, 1027.000000): []\n",
      "[G  30] score=(4555030375867615805440.000000, 8500310902777540953477825929847825760256.000000, 5397232855024811146620605097428143881322496.000000, 1029.000000): []\n",
      "[G  32] score=(558245726993845846016.000000, 3158626968588139335857131094930358272.000000, 3016335300704403601300670131741657137152.000000, 1031.000000): []\n",
      "[G  34] score=(554782714413832798208.000000, 450042235596313137737712687787278336.000000, 196638275929962572940152891954908102656.000000, 1033.000000): []\n",
      "[G  36] score=(401487992120886558720.000000, 543685142150895762231297054867456.000000, 175666720803599227748368062372380672.000000, 1035.000000): []\n",
      "[G  38] score=(156124587989016608768.000000, 1561254812542540085775738746175488.000000, 594542122588932245082120008553725952.000000, 1037.000000): []\n",
      "[G  40] score=(61004338724373102592.000000, 26445192123334194320706252046336.000000, 22762277532721478748112579190587392.000000, 1039.000000): []\n",
      "[G  42] score=(25198932949184253952.000000, 2129895282658536212836256590069760.000000, 1366645577649301953560915082903289856.000000, 1041.000000): []\n",
      "[G  44] score=(30147509604814766080.000000, 646784044575484720844688588800.000000, 586999176432348916617344234553344.000000, 1043.000000): []\n",
      "[G  46] score=(14440283865502058496.000000, 178214090982424106157958234112.000000, 166042871323965420664076896305152.000000, 1045.000000): []\n",
      "[G  48] score=(12911889169591873536.000000, 41582422606065294015226445824.000000, 27423257875998765072535103995904.000000, 1047.000000): []\n",
      "[G  50] score=(7454339871489812480.000000, 74297480003586786922137124864.000000, 69974705079711637699925368635392.000000, 1049.000000): []\n",
      "[G  52] score=(6923122018830751744.000000, 18173096403384994124854722560.000000, 13392374767944791173791129534464.000000, 1051.000000): []\n",
      "[G  54] score=(10187810291824648192.000000, 1035389882739478074627194880.000000, 364614663393194536826128302080.000000, 1053.000000): []\n",
      "[G  56] score=(4914757952007071744.000000, 81465664363416520436666597376.000000, 45246974243918569749490891227136.000000, 1055.000000): []\n",
      "[G  58] score=(4514582643851771904.000000, 12741988456550956105839149056.000000, 6222684439919821572167071432704.000000, 1057.000000): []\n",
      "[G  60] score=(3088108987829901824.000000, 62118823943445263534348304384.000000, 56564741199273761486956830654464.000000, 1059.000000): []\n",
      "[G  62] score=(2507736785789624832.000000, 141219054888798799878630146048.000000, 125080462072052030382362775781376.000000, 1061.000000): []\n",
      "[G  64] score=(4008346864276436480.000000, 1193312875697978400542031872.000000, 560107862060130711124949598208.000000, 1063.000000): []\n",
      "[G  66] score=(1442568972278557696.000000, 1044518817024472360601662783488.000000, 1046757255337122008370553076842496.000000, 1065.000000): []\n",
      "[G  68] score=(2227642483673405440.000000, 66683185366246428011134976.000000, 23905440067162535708170649600.000000, 1067.000000): []\n",
      "[G  70] score=(1474121286646367488.000000, 8205568917028541486654262607872.000000, 4012391375000546781291611571617792.000000, 1069.000000): []\n",
      "[G  72] score=(1677765167150806784.000000, 455138691587387134325265793024.000000, 403907781777909812554507720065024.000000, 1071.000000): []\n",
      "[G  74] score=(453815329962630912.000000, 7402391585979797231486589992960.000000, 3065697855053374766753786957398016.000000, 1073.000000): []\n",
      "[G  76] score=(1017018226901020544.000000, 3557139971325353775696535617536.000000, 3553427084869390618020025106169856.000000, 1075.000000): []\n",
      "[G  78] score=(417812450284084416.000000, 110593197298691879774384553984.000000, 106575894985568847469938170920960.000000, 1077.000000): []\n",
      "[G  80] score=(336009951809062912.000000, 3294859906248370476747325440.000000, 2476395441652190511116499025920.000000, 1079.000000): []\n",
      "[G  82] score=(485979235198931520.000000, 3704090107239325917010460672.000000, 2196589768757548845369275711488.000000, 1081.000000): []\n",
      "[G  84] score=(303648768269029760.000000, 788302152116840921121207353344.000000, 785163796207339434078548084654080.000000, 1083.000000): []\n",
      "[G  86] score=(449841328510712576.000000, 89567665063587081546104832.000000, 79917048621083412370464702464.000000, 1085.000000): []\n",
      "[G  88] score=(769234182981204864.000000, 9797279783003058751150227456.000000, 7517592519517816375409333239808.000000, 1087.000000): []\n",
      "[G  90] score=(95772174741086704.000000, 398690732083269430151217152.000000, 119499032452689968353966555136.000000, 1089.000000): []\n",
      "[G  92] score=(296923411796372736.000000, 618566278837389255514259456.000000, 645919759450727296203613011968.000000, 1091.000000): []\n",
      "[G  94] score=(715074531144605440.000000, 29248910550892790826401792.000000, 12359500813123511332039032832.000000, 1093.000000): []\n",
      "[G  96] score=(158352430560332160.000000, 57167834105187089726274797568.000000, 23191249420830596775636669300736.000000, 1095.000000): []\n",
      "[G  98] score=(321013373619246464.000000, 809913144272140058937524224.000000, 543759365398253569212304850944.000000, 1097.000000): []\n",
      "[G 100] score=(141093965895805152.000000, 12438667405347652179859603456.000000, 10520918711868700946711686676480.000000, 1099.000000): []\n",
      "[G 102] score=(224308635702186240.000000, 17401069271530407158874112.000000, 9684208532636438926616166400.000000, 1101.000000): []\n",
      "[G 104] score=(72473352349434384.000000, 31317866087036707292577792.000000, 20931159970169074582370123776.000000, 1103.000000): []\n",
      "[G 106] score=(74902803773949584.000000, 473753203806873549860241408.000000, 333311100699244599841830993920.000000, 1105.000000): []\n"
     ]
    },
    {
     "name": "stdout",
     "output_type": "stream",
     "text": [
      "[G 108] score=(145986158967159360.000000, 324568436379003243787714560.000000, 233299765494159306103101325312.000000, 1107.000000): []\n",
      "[G 110] score=(295043508896364096.000000, 1196414104282032277986941916628145315172954440699031322624.000000, 856861731764574625339485428837888297681505557149882668548096.000000, 1109.000000): []\n",
      "[G 112] score=(81897908781980960.000000, 45774814992943305676958990336.000000, 38137051399052586109410448769024.000000, 1111.000000): []\n",
      "[G 114] score=(53530939023373312.000000, 217927408086304372513832960.000000, 60310776332642511923686932480.000000, 1113.000000): []\n",
      "[G 116] score=(71963966563924904.000000, 446001914669718236200697856.000000, 472922386876673794761161703424.000000, 1115.000000): []\n",
      "[G 118] score=(214560173564969440.000000, 1427310860199835712807239680.000000, 1191612862704949958529299513344.000000, 1117.000000): []\n",
      "[G 120] score=(146513414529612416.000000, 9472872996029655123230720.000000, 4656141003493715395144056832.000000, 1119.000000): []\n",
      "[G 122] score=(56295658977021800.000000, 4915631956665005081207242752.000000, 5088417966036374938413497843712.000000, 1121.000000): []\n",
      "[G 124] score=(124181745183529840.000000, 197577336758354149000609792.000000, 193426551042460440609832304640.000000, 1123.000000): []\n",
      "[G 126] score=(75625479607557936.000000, 2591572788440936954070040576.000000, 1862647893404589929430089990144.000000, 1125.000000): []\n",
      "[G 128] score=(140296479692535520.000000, 2188214278789846957817856.000000, 1019819396215106195645530112.000000, 1127.000000): []\n",
      "[G 130] score=(30177954211752244.000000, 40633828377036842826855350272.000000, 18888252973662258616912748478464.000000, 1129.000000): []\n",
      "[G 132] score=(46417189387912520.000000, 202347883800642926151729152.000000, 189759504704677531046970916864.000000, 1131.000000): []\n",
      "[G 134] score=(44789961567816320.000000, 15672885929432808350023680.000000, 13998176995717064348984672256.000000, 1133.000000): []\n",
      "[G 136] score=(47647229061035720.000000, 92223769179074020211949568.000000, 38504121364583169046089826304.000000, 1135.000000): []\n",
      "[G 138] score=(32149867844970420.000000, 12866655805416728567019919638528.000000, 12370127320915972428487776861683712.000000, 1137.000000): []\n",
      "[G 140] score=(30782689820759792.000000, 3775683075310818875670528.000000, 1154929787468132433304485888.000000, 1139.000000): []\n",
      "[G 142] score=(51868052755487632.000000, 18115956312192458571120640.000000, 15723748573020790719302860800.000000, 1141.000000): []\n",
      "[G 144] score=(59809696466919872.000000, 242556795869236807872806912.000000, 251102455855141072734789828608.000000, 1143.000000): []\n",
      "[G 146] score=(11262791355821060.000000, 70640002587947900491268096.000000, 45487298789569948576382976000.000000, 1145.000000): []\n",
      "[G 148] score=(26955417858347080.000000, 16523701824229830521205555200.000000, 7883338009481463368573096296448.000000, 1147.000000): []\n",
      "[G 150] score=(18073351090297952.000000, 5861853913932537035489280.000000, 4017175463405689647524741120.000000, 1149.000000): []\n",
      "[G 152] score=(22721683554800668.000000, 11441839958128171954470912.000000, 4056874056033631563100979200.000000, 1151.000000): []\n",
      "[G 154] score=(31933028599328300.000000, 2084750303853302352720166912.000000, 1381374699168020674231113089024.000000, 1153.000000): []\n",
      "[G 156] score=(28569782331444252.000000, 4215577623425513083109376.000000, 1333285289634585677970538496.000000, 1155.000000): []\n",
      "[G 158] score=(37098859277430040.000000, 13063165280922953794453504.000000, 10395973851706333635241050112.000000, 1157.000000): []\n",
      "[G 160] score=(41212932341137448.000000, 668104684474703193994952704.000000, 651322609814602302869024538624.000000, 1159.000000): []\n",
      "[G 162] score=(40150080118855832.000000, 270508286170816782503247872.000000, 302060190983270862222451015680.000000, 1161.000000): []\n",
      "[G 164] score=(24946378054650100.000000, 933724160079777479924908032.000000, 1069873758856341915922419679232.000000, 1163.000000): []\n",
      "[G 166] score=(27271312766223744.000000, 267635899237589563481671073792.000000, 164874490247122090014410792763392.000000, 1165.000000): []\n",
      "[G 168] score=(13486203396075208.000000, 49955101767939350109815735794681610574896451026944.000000, 55465104542835626905604645679081144417040305865359360.000000, 1167.000000): []\n",
      "[G 170] score=(37760384109342496.000000, 876746499972040378801979392.000000, 504984231726104893047707795456.000000, 1169.000000): []\n",
      "[G 172] score=(21894081534735980.000000, 2830254398528925519153463296.000000, 3275226581444278177967940567040.000000, 1171.000000): []\n",
      "[G 174] score=(17919531398956308.000000, 2346148459535747845718016.000000, 1377186133896158014280302592.000000, 1173.000000): []\n",
      "[G 176] score=(17157051561959928.000000, 120863253947014117867913216.000000, 41027438044791386427078213632.000000, 1175.000000): []\n",
      "[G 178] score=(39229136447247944.000000, 8961080394176250314529701888.000000, 5074148669217170524430611251200.000000, 1177.000000): []\n",
      "[G 180] score=(29241004154333760.000000, 216852916358655042039840768.000000, 183448993030358175852370329600.000000, 1179.000000): []\n",
      "[G 182] score=(19104267177568908.000000, 70153947384501804882217402368.000000, 38253722260119823756723876790272.000000, 1181.000000): []\n",
      "[G 184] score=(17161618017416370.000000, 3276332491254320788737622016.000000, 2547238038492545692531523846144.000000, 1183.000000): []\n",
      "[G 186] score=(16928504780152844.000000, 31641899767789172583038976.000000, 12745419413677902705117364224.000000, 1185.000000): []\n",
      "[G 188] score=(17303472154894862.000000, 39871786132218455445733376.000000, 22548277710720598735004368896.000000, 1187.000000): []\n",
      "[G 190] score=(20340138762840168.000000, 187726372873432762754223046656.000000, 199034434933119637079368033894400.000000, 1189.000000): []\n",
      "[G 192] score=(19246904298520776.000000, 17197749225327422198513664.000000, 10741711468921602746242564096.000000, 1191.000000): []\n",
      "[G 194] score=(11429671151252854.000000, 421629205597483746157658112.000000, 339045168635732239667855097856.000000, 1193.000000): []\n",
      "[G 196] score=(4814076570055363.000000, 103079297904831408858202112.000000, 95060366712794020183216750592.000000, 1195.000000): []\n",
      "[G 198] score=(19254700944946884.000000, 307152593442839118508720128.000000, 216612699004215203501940146176.000000, 1197.000000): []\n",
      "[G 200] score=(11134843796286516.000000, 22964811398037303419994112.000000, 7240353537141059493270913024.000000, 1199.000000): []\n",
      "[G 202] score=(5736237696102086.000000, 145541939086532240806435094528.000000, 174782249394157703615852933283840.000000, 1201.000000): []\n",
      "[G 204] score=(4777603781052907.000000, 31953350253932360299970560.000000, 21395902985750223086371733504.000000, 1203.000000): []\n",
      "[G 206] score=(14680480725459126.000000, 1193083495200723671449600.000000, 1044843538917289194374037504.000000, 1205.000000): []\n",
      "[G 208] score=(16051402831073220.000000, 335705082173178360365056.000000, 196019096108965564161982464.000000, 1207.000000): []\n",
      "[G 210] score=(13712341087799202.000000, 249920715586210816948436992.000000, 87763477326056014170306904064.000000, 1209.000000): []\n",
      "[G 212] score=(5769363134173874.000000, 4581093053133679488925696.000000, 2364672726539131233740259328.000000, 1211.000000): []\n",
      "[G 214] score=(5737337154775956.000000, 1772267201994940705931264.000000, 776863513728975401950117888.000000, 1213.000000): []\n",
      "[G 216] score=(3192009294798285.000000, 1526254073941627481805029376.000000, 788659616939009134440885518336.000000, 1215.000000): []\n",
      "[G 218] score=(3223907982552769.000000, 10718526906285032204140544.000000, 6863308580240780306434490368.000000, 1217.000000): []\n",
      "[G 220] score=(3319929869473164.500000, 6746104128189263503163392.000000, 7429016296407751719903035392.000000, 1219.000000): []\n",
      "[G 222] score=(6444197591099802.000000, 1996690569570534503202422784.000000, 2156052351999358358786699952128.000000, 1221.000000): []\n",
      "[G 224] score=(7945759345808659.000000, 107005730634063947585552384.000000, 51477956120844567827831586816.000000, 1223.000000): []\n",
      "[G 226] score=(4092918010038445.500000, 1821138964555926616408064.000000, 749650671407878771683885056.000000, 1225.000000): []\n",
      "[G 228] score=(7201564315447129.000000, 21077306664069794770190336.000000, 25417028980009826992324083712.000000, 1227.000000): []\n",
      "[G 230] score=(6921024363943565.000000, 278599995846680413069375438848.000000, 273229207939139635084777696002048.000000, 1229.000000): []\n"
     ]
    },
    {
     "name": "stdout",
     "output_type": "stream",
     "text": [
      "[G 232] score=(3309571101796525.000000, 20999715549440185957613568.000000, 22775215548987178516377239552.000000, 1231.000000): []\n",
      "[G 234] score=(2902660726454001.000000, 15264109002211221875720192.000000, 6101649171635281531334819840.000000, 1233.000000): []\n",
      "[G 236] score=(1858852025131531.250000, 13166338758013787138162688.000000, 15322590977963363367754137600.000000, 1235.000000): []\n",
      "[G 238] score=(7319883180821467.000000, 2343625201690382346557140547445064728576.000000, 2408371441659594881066061223333521625448448.000000, 1237.000000): []\n",
      "[G 240] score=(3085911497631961.000000, 3370111784046211792633856.000000, 3071082987914385042316460032.000000, 1239.000000): []\n",
      "[G 242] score=(4123750307362908.000000, 12122009914855385437283811328.000000, 7252741684557088459278816116736.000000, 1241.000000): []\n",
      "[G 244] score=(2107940792654379.750000, 943754322676779512233984.000000, 212847496773141249587675136.000000, 1243.000000): []\n",
      "[G 246] score=(5055515149650414.000000, 15222579686399150087208960.000000, 15244484736819007892655964160.000000, 1245.000000): []\n",
      "[G 248] score=(3329488526618608.500000, 182427750352830398594023424.000000, 214543303874066694732888670208.000000, 1247.000000): []\n",
      "[G 250] score=(3356447684319402.000000, 7206738616411995414462464.000000, 6271625481330083711892324352.000000, 1249.000000): []\n",
      "[G 252] score=(4846875432528420.000000, 65373083005933993295085568.000000, 28386327192032761653860761600.000000, 1251.000000): []\n",
      "[G 254] score=(9114779809526104.000000, 113123113225535673597952.000000, 61919144928393079614865408.000000, 1253.000000): []\n",
      "[G 256] score=(4440736327778671.000000, 409226945057079902051762176.000000, 513323062207819555010863169536.000000, 1255.000000): []\n",
      "[G 258] score=(5242378875916097.000000, 591013518218391283826688.000000, 345112497116895165638770688.000000, 1257.000000): []\n",
      "[G 260] score=(3884781093666868.500000, 425236108869423271300300800.000000, 223178394459524606762598531072.000000, 1259.000000): []\n",
      "[G 262] score=(2125408989443378.000000, 26789416207128394891001856.000000, 25858421424046823438773387264.000000, 1261.000000): []\n",
      "[G 264] score=(5128398331398953.000000, 2050840208857271199858688.000000, 1516698439322175003904966656.000000, 1263.000000): []\n",
      "[G 266] score=(9093796794213752.000000, 198678792844705038835695509438715988588490764654079205441536.000000, 248983375637027616992291226914649336306785748279675248195928064.000000, 1265.000000): []\n",
      "[G 268] score=(2224772205656577.750000, 595927515029905650745344.000000, 197654188248343691076304896.000000, 1267.000000): []\n",
      "[G 270] score=(1896606973270077.750000, 11459102781768131424550912.000000, 9244452984893184379199684608.000000, 1269.000000): []\n",
      "[G 272] score=(2327524371263793.500000, 8036332450986875823325184.000000, 8727342353433240787050561536.000000, 1271.000000): []\n",
      "[G 274] score=(2535488213852816.500000, 92722880584571148914655232.000000, 117212481593187823466525491200.000000, 1273.000000): []\n",
      "[G 276] score=(1970522109174301.750000, 206303051799848973167186935808.000000, 263036035656691607164972334841856.000000, 1275.000000): []\n",
      "[G 278] score=(3281994678446647.500000, 16649337208957652355252224.000000, 16421409386696900588823642112.000000, 1277.000000): []\n",
      "[G 280] score=(2753113681705066.000000, 32604860392393045251719168.000000, 17895626902170495034165559296.000000, 1279.000000): []\n",
      "[G 282] score=(4141694623311988.000000, 942987964072525576536064.000000, 545592887679282683591000064.000000, 1281.000000): []\n",
      "[G 284] score=(2438485690143803.000000, 2746520250789347732724633305088.000000, 1299713826491067870963270288408576.000000, 1283.000000): []\n",
      "[G 286] score=(2427128455391943.500000, 103282094763619290972160.000000, 35238322667234394204274688.000000, 1285.000000): []\n",
      "[G 288] score=(1925687355727486.250000, 76659769194890311761920.000000, 33505942137201820331671552.000000, 1287.000000): []\n",
      "[G 290] score=(2751894567291083.500000, 721232062598055752368128.000000, 374316357733030725150572544.000000, 1289.000000): []\n",
      "[G 292] score=(1608812477777021.000000, 107745086026396845811433472.000000, 138315932895402144527263203328.000000, 1291.000000): []\n",
      "[G 294] score=(2590837909058842.500000, 76436775976783535564390400.000000, 79445529846743472786137677824.000000, 1293.000000): []\n",
      "[G 296] score=(1465683250646237.500000, 481831556188206391543988224.000000, 268946776842875931920252796928.000000, 1295.000000): []\n",
      "[G 298] score=(1791437375298030.750000, 43730430237352451375104.000000, 17992972360515840003538944.000000, 1297.000000): []\n",
      "[G 300] score=(971349627921663.750000, 3248683925050140940828672.000000, 2354606065409517138988761088.000000, 1299.000000): []\n"
     ]
    }
   ],
   "source": [
    "#%%time\n",
    "\n",
    "import gc\n",
    "gc.collect()\n",
    "#df = submission#['assigned_day']\n",
    "\n",
    "generation      = 300\n",
    "population_size = 1000\n",
    "prob_crossover  = 0.9\n",
    "prob_mutation   = 0.1\n",
    "\n",
    "ga = GeneticAlgorithm(\n",
    "    SantasWorkshop(generation=generation, size=population_size, \n",
    "                   prob_crossover=prob_crossover, prob_mutation=prob_mutation)\n",
    ")\n",
    "\n",
    "#da = SantasWorkshop(generation=generation, size=population_size, \n",
    "#                   prob_crossover=prob_crossover, prob_mutation=prob_mutation)\n",
    "#da.initial()\n",
    "best_solution = ga.run()"
   ]
  },
  {
   "cell_type": "code",
   "execution_count": 142,
   "metadata": {
    "scrolled": true
   },
   "outputs": [],
   "source": []
  },
  {
   "cell_type": "code",
   "execution_count": 147,
   "metadata": {
    "scrolled": true
   },
   "outputs": [
    {
     "data": {
      "text/plain": [
       "<matplotlib.axes._subplots.AxesSubplot at 0x7f3d25105240>"
      ]
     },
     "execution_count": 147,
     "metadata": {},
     "output_type": "execute_result"
    },
    {
     "data": {
      "image/png": "[encoded data removed]",
      "text/plain": [
       "<Figure size 432x288 with 1 Axes>"
      ]
     },
     "metadata": {
      "needs_background": "light"
     },
     "output_type": "display_data"
    }
   ],
   "source": [
    "#plt.plot(ga.avg_fitness)\n",
    "t = 20\n",
    "sns.lineplot(y=ga.avg_fitness[t:], x=range(len(ga.avg_fitness[t:])))"
   ]
  },
  {
   "cell_type": "code",
   "execution_count": 148,
   "metadata": {},
   "outputs": [
    {
     "data": {
      "text/plain": [
       "<matplotlib.axes._subplots.AxesSubplot at 0x7f3d24ca65c0>"
      ]
     },
     "execution_count": 148,
     "metadata": {},
     "output_type": "execute_result"
    },
    {
     "data": {
      "image/png": "[encoded data removed]",
      "text/plain": [
       "<Figure size 432x288 with 1 Axes>"
      ]
     },
     "metadata": {
      "needs_background": "light"
     },
     "output_type": "display_data"
    }
   ],
   "source": [
    "#plt.plot(ga.avg_fitness)\n",
    "t = 1\n",
    "sns.lineplot(y=ga.best_fitness[t:], x=range(len(ga.best_fitness[t:])))"
   ]
  },
  {
   "cell_type": "code",
   "execution_count": 149,
   "metadata": {},
   "outputs": [],
   "source": [
    "# g = SantasWorkshop(df, data, generation=generation, size=population_size, \n",
    "#                    prob_crossover=prob_crossover, prob_mutation=prob_mutation)\n",
    "\n",
    "# chromo = g.random_chromo()\n",
    "# cost_function(chromo)"
   ]
  },
  {
   "cell_type": "code",
   "execution_count": 150,
   "metadata": {},
   "outputs": [
    {
     "ename": "KeyError",
     "evalue": "31",
     "output_type": "error",
     "traceback": [
      "\u001b[0;31m---------------------------------------------------------------------------\u001b[0m",
      "\u001b[0;31mKeyError\u001b[0m                                  Traceback (most recent call last)",
      "\u001b[0;32m<ipython-input-150-8a0850078d21>\u001b[0m in \u001b[0;36m<module>\u001b[0;34m\u001b[0m\n\u001b[1;32m      1\u001b[0m \u001b[0mbest_solution\u001b[0m \u001b[0;34m=\u001b[0m  \u001b[0mga\u001b[0m\u001b[0;34m.\u001b[0m\u001b[0mbest_solution\u001b[0m\u001b[0;34m\u001b[0m\u001b[0;34m\u001b[0m\u001b[0m\n\u001b[0;32m----> 2\u001b[0;31m \u001b[0mcost_function\u001b[0m\u001b[0;34m(\u001b[0m\u001b[0mbest_solution\u001b[0m\u001b[0;34m)\u001b[0m\u001b[0;34m\u001b[0m\u001b[0;34m\u001b[0m\u001b[0m\n\u001b[0m\u001b[1;32m      3\u001b[0m \u001b[0;34m\u001b[0m\u001b[0m\n\u001b[1;32m      4\u001b[0m \u001b[0;34m\u001b[0m\u001b[0m\n\u001b[1;32m      5\u001b[0m \u001b[0mdays\u001b[0m \u001b[0;34m=\u001b[0m \u001b[0;34m[\u001b[0m\u001b[0;34m]\u001b[0m\u001b[0;34m\u001b[0m\u001b[0;34m\u001b[0m\u001b[0m\n",
      "\u001b[0;32m<ipython-input-133-a75570522fa7>\u001b[0m in \u001b[0;36mcost_function\u001b[0;34m(prediction)\u001b[0m\n\u001b[1;32m     16\u001b[0m \u001b[0;34m\u001b[0m\u001b[0m\n\u001b[1;32m     17\u001b[0m         \u001b[0;31m# add the family member count to the daily occupancy\u001b[0m\u001b[0;34m\u001b[0m\u001b[0;34m\u001b[0m\u001b[0;34m\u001b[0m\u001b[0m\n\u001b[0;32m---> 18\u001b[0;31m         \u001b[0mdaily_occupancy\u001b[0m\u001b[0;34m[\u001b[0m\u001b[0md\u001b[0m\u001b[0;34m]\u001b[0m \u001b[0;34m+=\u001b[0m \u001b[0mn\u001b[0m\u001b[0;34m\u001b[0m\u001b[0;34m\u001b[0m\u001b[0m\n\u001b[0m\u001b[1;32m     19\u001b[0m \u001b[0;34m\u001b[0m\u001b[0m\n\u001b[1;32m     20\u001b[0m         \u001b[0;31m# Calculate the penalty for not getting top preference\u001b[0m\u001b[0;34m\u001b[0m\u001b[0;34m\u001b[0m\u001b[0;34m\u001b[0m\u001b[0m\n",
      "\u001b[0;31mKeyError\u001b[0m: 31"
     ]
    }
   ],
   "source": [
    "best_solution =  ga.best_solution\n",
    "cost_function(best_solution)\n",
    "\n",
    "\n",
    "days = []\n",
    "for n, c, c_dict in zip(family_size_ls, best_solution, list(choice_dict.values())):\n",
    "    days.append(c_dict['choice_{}'.format(c)])\n",
    "days"
   ]
  },
  {
   "cell_type": "code",
   "execution_count": 151,
   "metadata": {},
   "outputs": [
    {
     "ename": "ValueError",
     "evalue": "Length of values does not match length of index",
     "output_type": "error",
     "traceback": [
      "\u001b[0;31m---------------------------------------------------------------------------\u001b[0m",
      "\u001b[0;31mValueError\u001b[0m                                Traceback (most recent call last)",
      "\u001b[0;32m<ipython-input-151-350c2a00803e>\u001b[0m in \u001b[0;36m<module>\u001b[0;34m\u001b[0m\n\u001b[0;32m----> 1\u001b[0;31m \u001b[0msubmission\u001b[0m\u001b[0;34m[\u001b[0m\u001b[0;34m'assigned_day'\u001b[0m\u001b[0;34m]\u001b[0m\u001b[0;34m=\u001b[0m\u001b[0mdays\u001b[0m\u001b[0;34m\u001b[0m\u001b[0;34m\u001b[0m\u001b[0m\n\u001b[0m\u001b[1;32m      2\u001b[0m \u001b[0msubmission\u001b[0m\u001b[0;34m.\u001b[0m\u001b[0mto_csv\u001b[0m\u001b[0;34m(\u001b[0m\u001b[0;34m'submission.csv'\u001b[0m\u001b[0;34m)\u001b[0m\u001b[0;34m\u001b[0m\u001b[0;34m\u001b[0m\u001b[0m\n",
      "\u001b[0;32m~/anaconda3/lib/python3.7/site-packages/pandas/core/frame.py\u001b[0m in \u001b[0;36m__setitem__\u001b[0;34m(self, key, value)\u001b[0m\n\u001b[1;32m   3368\u001b[0m         \u001b[0;32melse\u001b[0m\u001b[0;34m:\u001b[0m\u001b[0;34m\u001b[0m\u001b[0;34m\u001b[0m\u001b[0m\n\u001b[1;32m   3369\u001b[0m             \u001b[0;31m# set column\u001b[0m\u001b[0;34m\u001b[0m\u001b[0;34m\u001b[0m\u001b[0;34m\u001b[0m\u001b[0m\n\u001b[0;32m-> 3370\u001b[0;31m             \u001b[0mself\u001b[0m\u001b[0;34m.\u001b[0m\u001b[0m_set_item\u001b[0m\u001b[0;34m(\u001b[0m\u001b[0mkey\u001b[0m\u001b[0;34m,\u001b[0m \u001b[0mvalue\u001b[0m\u001b[0;34m)\u001b[0m\u001b[0;34m\u001b[0m\u001b[0;34m\u001b[0m\u001b[0m\n\u001b[0m\u001b[1;32m   3371\u001b[0m \u001b[0;34m\u001b[0m\u001b[0m\n\u001b[1;32m   3372\u001b[0m     \u001b[0;32mdef\u001b[0m \u001b[0m_setitem_slice\u001b[0m\u001b[0;34m(\u001b[0m\u001b[0mself\u001b[0m\u001b[0;34m,\u001b[0m \u001b[0mkey\u001b[0m\u001b[0;34m,\u001b[0m \u001b[0mvalue\u001b[0m\u001b[0;34m)\u001b[0m\u001b[0;34m:\u001b[0m\u001b[0;34m\u001b[0m\u001b[0;34m\u001b[0m\u001b[0m\n",
      "\u001b[0;32m~/anaconda3/lib/python3.7/site-packages/pandas/core/frame.py\u001b[0m in \u001b[0;36m_set_item\u001b[0;34m(self, key, value)\u001b[0m\n\u001b[1;32m   3443\u001b[0m \u001b[0;34m\u001b[0m\u001b[0m\n\u001b[1;32m   3444\u001b[0m         \u001b[0mself\u001b[0m\u001b[0;34m.\u001b[0m\u001b[0m_ensure_valid_index\u001b[0m\u001b[0;34m(\u001b[0m\u001b[0mvalue\u001b[0m\u001b[0;34m)\u001b[0m\u001b[0;34m\u001b[0m\u001b[0;34m\u001b[0m\u001b[0m\n\u001b[0;32m-> 3445\u001b[0;31m         \u001b[0mvalue\u001b[0m \u001b[0;34m=\u001b[0m \u001b[0mself\u001b[0m\u001b[0;34m.\u001b[0m\u001b[0m_sanitize_column\u001b[0m\u001b[0;34m(\u001b[0m\u001b[0mkey\u001b[0m\u001b[0;34m,\u001b[0m \u001b[0mvalue\u001b[0m\u001b[0;34m)\u001b[0m\u001b[0;34m\u001b[0m\u001b[0;34m\u001b[0m\u001b[0m\n\u001b[0m\u001b[1;32m   3446\u001b[0m         \u001b[0mNDFrame\u001b[0m\u001b[0;34m.\u001b[0m\u001b[0m_set_item\u001b[0m\u001b[0;34m(\u001b[0m\u001b[0mself\u001b[0m\u001b[0;34m,\u001b[0m \u001b[0mkey\u001b[0m\u001b[0;34m,\u001b[0m \u001b[0mvalue\u001b[0m\u001b[0;34m)\u001b[0m\u001b[0;34m\u001b[0m\u001b[0;34m\u001b[0m\u001b[0m\n\u001b[1;32m   3447\u001b[0m \u001b[0;34m\u001b[0m\u001b[0m\n",
      "\u001b[0;32m~/anaconda3/lib/python3.7/site-packages/pandas/core/frame.py\u001b[0m in \u001b[0;36m_sanitize_column\u001b[0;34m(self, key, value, broadcast)\u001b[0m\n\u001b[1;32m   3628\u001b[0m \u001b[0;34m\u001b[0m\u001b[0m\n\u001b[1;32m   3629\u001b[0m             \u001b[0;31m# turn me into an ndarray\u001b[0m\u001b[0;34m\u001b[0m\u001b[0;34m\u001b[0m\u001b[0;34m\u001b[0m\u001b[0m\n\u001b[0;32m-> 3630\u001b[0;31m             \u001b[0mvalue\u001b[0m \u001b[0;34m=\u001b[0m \u001b[0msanitize_index\u001b[0m\u001b[0;34m(\u001b[0m\u001b[0mvalue\u001b[0m\u001b[0;34m,\u001b[0m \u001b[0mself\u001b[0m\u001b[0;34m.\u001b[0m\u001b[0mindex\u001b[0m\u001b[0;34m,\u001b[0m \u001b[0mcopy\u001b[0m\u001b[0;34m=\u001b[0m\u001b[0;32mFalse\u001b[0m\u001b[0;34m)\u001b[0m\u001b[0;34m\u001b[0m\u001b[0;34m\u001b[0m\u001b[0m\n\u001b[0m\u001b[1;32m   3631\u001b[0m             \u001b[0;32mif\u001b[0m \u001b[0;32mnot\u001b[0m \u001b[0misinstance\u001b[0m\u001b[0;34m(\u001b[0m\u001b[0mvalue\u001b[0m\u001b[0;34m,\u001b[0m \u001b[0;34m(\u001b[0m\u001b[0mnp\u001b[0m\u001b[0;34m.\u001b[0m\u001b[0mndarray\u001b[0m\u001b[0;34m,\u001b[0m \u001b[0mIndex\u001b[0m\u001b[0;34m)\u001b[0m\u001b[0;34m)\u001b[0m\u001b[0;34m:\u001b[0m\u001b[0;34m\u001b[0m\u001b[0;34m\u001b[0m\u001b[0m\n\u001b[1;32m   3632\u001b[0m                 \u001b[0;32mif\u001b[0m \u001b[0misinstance\u001b[0m\u001b[0;34m(\u001b[0m\u001b[0mvalue\u001b[0m\u001b[0;34m,\u001b[0m \u001b[0mlist\u001b[0m\u001b[0;34m)\u001b[0m \u001b[0;32mand\u001b[0m \u001b[0mlen\u001b[0m\u001b[0;34m(\u001b[0m\u001b[0mvalue\u001b[0m\u001b[0;34m)\u001b[0m \u001b[0;34m>\u001b[0m \u001b[0;36m0\u001b[0m\u001b[0;34m:\u001b[0m\u001b[0;34m\u001b[0m\u001b[0;34m\u001b[0m\u001b[0m\n",
      "\u001b[0;32m~/anaconda3/lib/python3.7/site-packages/pandas/core/internals/construction.py\u001b[0m in \u001b[0;36msanitize_index\u001b[0;34m(data, index, copy)\u001b[0m\n\u001b[1;32m    517\u001b[0m \u001b[0;34m\u001b[0m\u001b[0m\n\u001b[1;32m    518\u001b[0m     \u001b[0;32mif\u001b[0m \u001b[0mlen\u001b[0m\u001b[0;34m(\u001b[0m\u001b[0mdata\u001b[0m\u001b[0;34m)\u001b[0m \u001b[0;34m!=\u001b[0m \u001b[0mlen\u001b[0m\u001b[0;34m(\u001b[0m\u001b[0mindex\u001b[0m\u001b[0;34m)\u001b[0m\u001b[0;34m:\u001b[0m\u001b[0;34m\u001b[0m\u001b[0;34m\u001b[0m\u001b[0m\n\u001b[0;32m--> 519\u001b[0;31m         \u001b[0;32mraise\u001b[0m \u001b[0mValueError\u001b[0m\u001b[0;34m(\u001b[0m\u001b[0;34m'Length of values does not match length of index'\u001b[0m\u001b[0;34m)\u001b[0m\u001b[0;34m\u001b[0m\u001b[0;34m\u001b[0m\u001b[0m\n\u001b[0m\u001b[1;32m    520\u001b[0m \u001b[0;34m\u001b[0m\u001b[0m\n\u001b[1;32m    521\u001b[0m     \u001b[0;32mif\u001b[0m \u001b[0misinstance\u001b[0m\u001b[0;34m(\u001b[0m\u001b[0mdata\u001b[0m\u001b[0;34m,\u001b[0m \u001b[0mABCIndexClass\u001b[0m\u001b[0;34m)\u001b[0m \u001b[0;32mand\u001b[0m \u001b[0;32mnot\u001b[0m \u001b[0mcopy\u001b[0m\u001b[0;34m:\u001b[0m\u001b[0;34m\u001b[0m\u001b[0;34m\u001b[0m\u001b[0m\n",
      "\u001b[0;31mValueError\u001b[0m: Length of values does not match length of index"
     ]
    }
   ],
   "source": [
    "submission['assigned_day']=days\n",
    "submission.to_csv('submission.csv')"
   ]
  },
  {
   "cell_type": "code",
   "execution_count": null,
   "metadata": {},
   "outputs": [],
   "source": []
  }
 ],
 "metadata": {
  "kernelspec": {
   "display_name": "Python 3",
   "language": "python",
   "name": "python3"
  },
  "language_info": {
   "codemirror_mode": {
    "name": "ipython",
    "version": 3
   },
   "file_extension": ".py",
   "mimetype": "text/x-python",
   "name": "python",
   "nbconvert_exporter": "python",
   "pygments_lexer": "ipython3",
   "version": "3.7.3"
  },
  "toc": {
   "base_numbering": 1,
   "nav_menu": {},
   "number_sections": true,
   "sideBar": true,
   "skip_h1_title": false,
   "title_cell": "Table of Contents",
   "title_sidebar": "Contents",
   "toc_cell": false,
   "toc_position": {},
   "toc_section_display": true,
   "toc_window_display": false
  }
 },
 "nbformat": 4,
 "nbformat_minor": 1
}
